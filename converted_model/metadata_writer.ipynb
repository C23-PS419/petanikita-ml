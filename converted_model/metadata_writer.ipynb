{
 "cells": [
  {
   "cell_type": "code",
   "execution_count": 2,
   "metadata": {},
   "outputs": [],
   "source": [
    "import os\n",
    "\n",
    "os.environ[\"TF_CPP_MIN_LOG_LEVEL\"] = \"2\""
   ]
  },
  {
   "cell_type": "code",
   "execution_count": 3,
   "metadata": {},
   "outputs": [
    {
     "ename": "ValueError",
     "evalue": "The model provided does not have the expected identifier, and may not be a valid TFLite model.",
     "output_type": "error",
     "traceback": [
      "\u001b[0;31m---------------------------------------------------------------------------\u001b[0m",
      "\u001b[0;31mValueError\u001b[0m                                Traceback (most recent call last)",
      "Cell \u001b[0;32mIn[3], line 75\u001b[0m\n\u001b[1;32m     70\u001b[0m b\u001b[39m.\u001b[39mFinish(\n\u001b[1;32m     71\u001b[0m     model_meta\u001b[39m.\u001b[39mPack(b),\n\u001b[1;32m     72\u001b[0m     _metadata\u001b[39m.\u001b[39mMetadataPopulator\u001b[39m.\u001b[39mMETADATA_FILE_IDENTIFIER)\n\u001b[1;32m     73\u001b[0m metadata_buf \u001b[39m=\u001b[39m b\u001b[39m.\u001b[39mOutput()\n\u001b[0;32m---> 75\u001b[0m populator \u001b[39m=\u001b[39m _metadata\u001b[39m.\u001b[39;49mMetadataPopulator\u001b[39m.\u001b[39;49mwith_model_file(model_file)\n\u001b[1;32m     76\u001b[0m populator\u001b[39m.\u001b[39mload_metadata_buffer(metadata_buf)\n\u001b[1;32m     77\u001b[0m populator\u001b[39m.\u001b[39mload_associated_files([label_path])\n",
      "File \u001b[0;32m~/.local/lib/python3.8/site-packages/tensorflow_lite_support/metadata/python/metadata.py:195\u001b[0m, in \u001b[0;36mMetadataPopulator.with_model_file\u001b[0;34m(cls, model_file)\u001b[0m\n\u001b[1;32m    181\u001b[0m \u001b[39m@classmethod\u001b[39m\n\u001b[1;32m    182\u001b[0m \u001b[39mdef\u001b[39;00m \u001b[39mwith_model_file\u001b[39m(\u001b[39mcls\u001b[39m, model_file):\n\u001b[1;32m    183\u001b[0m \u001b[39m  \u001b[39m\u001b[39m\"\"\"Creates a MetadataPopulator object that populates data to a model file.\u001b[39;00m\n\u001b[1;32m    184\u001b[0m \n\u001b[1;32m    185\u001b[0m \u001b[39m  Args:\u001b[39;00m\n\u001b[0;32m   (...)\u001b[0m\n\u001b[1;32m    193\u001b[0m \u001b[39m    ValueError: the model does not have the expected flatbuffer identifer.\u001b[39;00m\n\u001b[1;32m    194\u001b[0m \u001b[39m  \"\"\"\u001b[39;00m\n\u001b[0;32m--> 195\u001b[0m   \u001b[39mreturn\u001b[39;00m \u001b[39mcls\u001b[39;49m(model_file)\n",
      "File \u001b[0;32m~/.local/lib/python3.8/site-packages/tensorflow_lite_support/metadata/python/metadata.py:175\u001b[0m, in \u001b[0;36mMetadataPopulator.__init__\u001b[0;34m(self, model_file)\u001b[0m\n\u001b[1;32m    165\u001b[0m \u001b[39mdef\u001b[39;00m \u001b[39m__init__\u001b[39m(\u001b[39mself\u001b[39m, model_file):\n\u001b[1;32m    166\u001b[0m \u001b[39m  \u001b[39m\u001b[39m\"\"\"Constructor for MetadataPopulator.\u001b[39;00m\n\u001b[1;32m    167\u001b[0m \n\u001b[1;32m    168\u001b[0m \u001b[39m  Args:\u001b[39;00m\n\u001b[0;32m   (...)\u001b[0m\n\u001b[1;32m    173\u001b[0m \u001b[39m    ValueError: the model does not have the expected flatbuffer identifer.\u001b[39;00m\n\u001b[1;32m    174\u001b[0m \u001b[39m  \"\"\"\u001b[39;00m\n\u001b[0;32m--> 175\u001b[0m   _assert_model_file_identifier(model_file)\n\u001b[1;32m    176\u001b[0m   \u001b[39mself\u001b[39m\u001b[39m.\u001b[39m_model_file \u001b[39m=\u001b[39m model_file\n\u001b[1;32m    177\u001b[0m   \u001b[39mself\u001b[39m\u001b[39m.\u001b[39m_metadata_buf \u001b[39m=\u001b[39m \u001b[39mNone\u001b[39;00m\n",
      "File \u001b[0;32m~/.local/lib/python3.8/site-packages/tensorflow_lite_support/metadata/python/metadata.py:827\u001b[0m, in \u001b[0;36m_assert_model_file_identifier\u001b[0;34m(model_file)\u001b[0m\n\u001b[1;32m    825\u001b[0m _assert_file_exist(model_file)\n\u001b[1;32m    826\u001b[0m \u001b[39mwith\u001b[39;00m _open_file(model_file, \u001b[39m\"\u001b[39m\u001b[39mrb\u001b[39m\u001b[39m\"\u001b[39m) \u001b[39mas\u001b[39;00m f:\n\u001b[0;32m--> 827\u001b[0m   _assert_model_buffer_identifier(f\u001b[39m.\u001b[39;49mread())\n",
      "File \u001b[0;32m~/.local/lib/python3.8/site-packages/tensorflow_lite_support/metadata/python/metadata.py:832\u001b[0m, in \u001b[0;36m_assert_model_buffer_identifier\u001b[0;34m(model_buf)\u001b[0m\n\u001b[1;32m    830\u001b[0m \u001b[39mdef\u001b[39;00m \u001b[39m_assert_model_buffer_identifier\u001b[39m(model_buf):\n\u001b[1;32m    831\u001b[0m   \u001b[39mif\u001b[39;00m \u001b[39mnot\u001b[39;00m _schema_fb\u001b[39m.\u001b[39mModel\u001b[39m.\u001b[39mModelBufferHasIdentifier(model_buf, \u001b[39m0\u001b[39m):\n\u001b[0;32m--> 832\u001b[0m     \u001b[39mraise\u001b[39;00m \u001b[39mValueError\u001b[39;00m(\n\u001b[1;32m    833\u001b[0m         \u001b[39m\"\u001b[39m\u001b[39mThe model provided does not have the expected identifier, and \u001b[39m\u001b[39m\"\u001b[39m\n\u001b[1;32m    834\u001b[0m         \u001b[39m\"\u001b[39m\u001b[39mmay not be a valid TFLite model.\u001b[39m\u001b[39m\"\u001b[39m)\n",
      "\u001b[0;31mValueError\u001b[0m: The model provided does not have the expected identifier, and may not be a valid TFLite model."
     ]
    }
   ],
   "source": [
    "from tflite_support import flatbuffers\n",
    "from tflite_support import metadata as _metadata\n",
    "from tflite_support import metadata_schema_py_generated as _metadata_fb\n",
    "\n",
    "\"\"\"Creates the metadata for an image classifier.\"\"\"\n",
    "\n",
    "model_file = \"rldc_mobilenet_v1_1_default_1.tflite\"\n",
    "label_path = \"rldc_mobilenet_labels.txt\"\n",
    "\n",
    "# Creates model info.\n",
    "model_meta = _metadata_fb.ModelMetadataT()\n",
    "model_meta.name = \"Rice leaf disease image classifier\"\n",
    "model_meta.description = (\"Identify the most prominent object in the \"\n",
    "                          \"image from a set of 4 categories\")\n",
    "model_meta.version = \"v1\"\n",
    "model_meta.author = \"Risang Baskoro\"\n",
    "model_meta.license = (\"Apache License. Version 2.0 \"\n",
    "                      \"http://www.apache.org/licenses/LICENSE-2.0.\")\n",
    "\n",
    "# Creates input info.\n",
    "input_meta = _metadata_fb.TensorMetadataT()\n",
    "input_meta.name = \"image\"\n",
    "input_meta.description = (\n",
    "    f\"Input image to be classified. The expected image is {224} x {224}, with \"\n",
    "    \"three channels (red, blue, and green) per pixel. Each value in the \"\n",
    "    \"tensor is a single byte between 0 and 255.\")\n",
    "input_meta.content = _metadata_fb.ContentT()\n",
    "input_meta.content.contentProperties = _metadata_fb.ImagePropertiesT()\n",
    "input_meta.content.contentProperties.colorSpace = (\n",
    "    _metadata_fb.ColorSpaceType.RGB)\n",
    "input_meta.content.contentPropertiesType = (\n",
    "    _metadata_fb.ContentProperties.ImageProperties)\n",
    "input_normalization = _metadata_fb.ProcessUnitT()\n",
    "input_normalization.optionsType = (\n",
    "    _metadata_fb.ProcessUnitOptions.NormalizationOptions)\n",
    "input_normalization.options = _metadata_fb.NormalizationOptionsT()\n",
    "input_normalization.options.mean = [127.5]\n",
    "input_normalization.options.std = [127.5]\n",
    "input_meta.processUnits = [input_normalization]\n",
    "input_stats = _metadata_fb.StatsT()\n",
    "input_stats.max = [255]\n",
    "input_stats.min = [0]\n",
    "input_meta.stats = input_stats\n",
    "\n",
    "# Creates output info.\n",
    "output_meta = _metadata_fb.TensorMetadataT()\n",
    "output_meta.name = \"probability\"\n",
    "output_meta.description = \"Probabilities of the 4 labels respectively.\"\n",
    "output_meta.content = _metadata_fb.ContentT()\n",
    "output_meta.content.content_properties = _metadata_fb.FeaturePropertiesT()\n",
    "output_meta.content.contentPropertiesType = (\n",
    "    _metadata_fb.ContentProperties.FeatureProperties)\n",
    "output_stats = _metadata_fb.StatsT()\n",
    "output_stats.max = [1.0]\n",
    "output_stats.min = [0.0]\n",
    "output_meta.stats = output_stats\n",
    "label_file = _metadata_fb.AssociatedFileT()\n",
    "label_file.name = os.path.basename(label_path)\n",
    "label_file.description = \"Labels for objects that the model can recognize.\"\n",
    "label_file.type = _metadata_fb.AssociatedFileType.TENSOR_AXIS_LABELS\n",
    "output_meta.associatedFiles = [label_file]\n",
    "\n",
    "# Creates subgraph info.\n",
    "subgraph = _metadata_fb.SubGraphMetadataT()\n",
    "subgraph.inputTensorMetadata = [input_meta]\n",
    "subgraph.outputTensorMetadata = [output_meta]\n",
    "model_meta.subgraphMetadata = [subgraph]\n",
    "\n",
    "b = flatbuffers.Builder(0)\n",
    "b.Finish(\n",
    "    model_meta.Pack(b),\n",
    "    _metadata.MetadataPopulator.METADATA_FILE_IDENTIFIER)\n",
    "metadata_buf = b.Output()\n",
    "\n",
    "populator = _metadata.MetadataPopulator.with_model_file(model_file)\n",
    "populator.load_metadata_buffer(metadata_buf)\n",
    "populator.load_associated_files([label_path])\n",
    "populator.populate()"
   ]
  },
  {
   "cell_type": "code",
   "execution_count": null,
   "metadata": {},
   "outputs": [
    {
     "ename": "",
     "evalue": "",
     "output_type": "error",
     "traceback": [
      "\u001b[1;31mThe Kernel crashed while executing code in the the current cell or a previous cell. Please review the code in the cell(s) to identify a possible cause of the failure. Click <a href='https://aka.ms/vscodeJupyterKernelCrash'>here</a> for more info. View Jupyter <a href='command:jupyter.viewOutput'>log</a> for further details."
     ]
    }
   ],
   "source": [
    "export_json_file = os.path.join(\n",
    "    \"rldc_mobilenet_v1_1_default_1\" + \".json\"\n",
    ")\n",
    "json_file = populator.get_metadata_json()\n",
    "with open(export_json_file, \"w\") as f:\n",
    "    f.write(json_file)\n",
    "\n",
    "print(\"Finished populating metadata and associated file to the model:\")\n",
    "print(model_file)\n",
    "print(\"The metadata json file has been saved to:\")\n",
    "print(export_json_file)\n",
    "print(\"The associated file that has been been packed to the model is:\")\n",
    "print(populator.get_packed_associated_file_list())"
   ]
  },
  {
   "cell_type": "code",
   "execution_count": 4,
   "metadata": {},
   "outputs": [
    {
     "ename": "",
     "evalue": "",
     "output_type": "error",
     "traceback": [
      "\u001b[1;31mThe Kernel crashed while executing code in the the current cell or a previous cell. Please review the code in the cell(s) to identify a possible cause of the failure. Click <a href='https://aka.ms/vscodeJupyterKernelCrash'>here</a> for more info. View Jupyter <a href='command:jupyter.viewOutput'>log</a> for further details."
     ]
    }
   ],
   "source": [
    "exit()"
   ]
  },
  {
   "cell_type": "code",
   "execution_count": null,
   "metadata": {},
   "outputs": [],
   "source": []
  }
 ],
 "metadata": {
  "kernelspec": {
   "display_name": "Python 3",
   "language": "python",
   "name": "python3"
  },
  "language_info": {
   "codemirror_mode": {
    "name": "ipython",
    "version": 3
   },
   "file_extension": ".py",
   "mimetype": "text/x-python",
   "name": "python",
   "nbconvert_exporter": "python",
   "pygments_lexer": "ipython3",
   "version": "3.8.10"
  },
  "orig_nbformat": 4
 },
 "nbformat": 4,
 "nbformat_minor": 2
}
